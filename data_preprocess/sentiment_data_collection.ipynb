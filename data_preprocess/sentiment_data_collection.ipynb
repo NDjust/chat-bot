{
 "cells": [
  {
   "cell_type": "code",
   "execution_count": 16,
   "metadata": {},
   "outputs": [],
   "source": [
    "import koco\n",
    "import pandas as pd\n",
    "import matplotlib.pyplot as plt"
   ]
  },
  {
   "cell_type": "markdown",
   "metadata": {},
   "source": [
    "### Korean Hate Speech\n",
    "---\n",
    "\n",
    "- https://github.com/kocohub/korean-hate-speech"
   ]
  },
  {
   "cell_type": "code",
   "execution_count": 2,
   "metadata": {},
   "outputs": [
    {
     "data": {
      "text/plain": [
       "dict_keys(['train', 'dev'])"
      ]
     },
     "execution_count": 2,
     "metadata": {},
     "output_type": "execute_result"
    }
   ],
   "source": [
    "train_dev = koco.load_dataset(\"korean-hate-speech\", mode=\"train_dev\")\n",
    "train_dev.keys()"
   ]
  },
  {
   "cell_type": "code",
   "execution_count": 3,
   "metadata": {},
   "outputs": [
    {
     "data": {
      "text/plain": [
       "{'comments': '10살 차이가 넘을텐데 부부라고? 무슨 내용인지 긍금하네..',\n",
       " 'contain_gender_bias': False,\n",
       " 'bias': 'others',\n",
       " 'hate': 'none',\n",
       " 'news_title': '\"이지훈, \\'99억의 여자\\' 출연…오나라와 부부 호흡[공식]\"'}"
      ]
     },
     "execution_count": 3,
     "metadata": {},
     "output_type": "execute_result"
    }
   ],
   "source": [
    "train_dev[\"train\"][10]"
   ]
  },
  {
   "cell_type": "code",
   "execution_count": 4,
   "metadata": {},
   "outputs": [],
   "source": [
    "import pandas as pd"
   ]
  },
  {
   "cell_type": "code",
   "execution_count": 6,
   "metadata": {},
   "outputs": [
    {
     "name": "stdout",
     "output_type": "stream",
     "text": [
      "shape : (9999, 7)\n"
     ]
    },
    {
     "data": {
      "text/html": [
       "<div>\n",
       "<style scoped>\n",
       "    .dataframe tbody tr th:only-of-type {\n",
       "        vertical-align: middle;\n",
       "    }\n",
       "\n",
       "    .dataframe tbody tr th {\n",
       "        vertical-align: top;\n",
       "    }\n",
       "\n",
       "    .dataframe thead th {\n",
       "        text-align: right;\n",
       "    }\n",
       "</style>\n",
       "<table border=\"1\" class=\"dataframe\">\n",
       "  <thead>\n",
       "    <tr style=\"text-align: right;\">\n",
       "      <th></th>\n",
       "      <th>id</th>\n",
       "      <th>document</th>\n",
       "      <th>toxic</th>\n",
       "      <th>obscene</th>\n",
       "      <th>threat</th>\n",
       "      <th>insult</th>\n",
       "      <th>identity_hate</th>\n",
       "    </tr>\n",
       "  </thead>\n",
       "  <tbody>\n",
       "    <tr>\n",
       "      <th>0</th>\n",
       "      <td>9976970</td>\n",
       "      <td>아 더빙.. 진짜 짜증나네요 목소리</td>\n",
       "      <td>1</td>\n",
       "      <td>0</td>\n",
       "      <td>0</td>\n",
       "      <td>0</td>\n",
       "      <td>0</td>\n",
       "    </tr>\n",
       "    <tr>\n",
       "      <th>1</th>\n",
       "      <td>9045019</td>\n",
       "      <td>교도소 이야기구먼 ..솔직히 재미는 없다..평점 조정</td>\n",
       "      <td>1</td>\n",
       "      <td>0</td>\n",
       "      <td>0</td>\n",
       "      <td>0</td>\n",
       "      <td>0</td>\n",
       "    </tr>\n",
       "    <tr>\n",
       "      <th>2</th>\n",
       "      <td>5403919</td>\n",
       "      <td>막 걸음마 뗀 3세부터 초등학교 1학년생인 8살용영화.ㅋㅋㅋ...별반개도 아까움.</td>\n",
       "      <td>1</td>\n",
       "      <td>0</td>\n",
       "      <td>0</td>\n",
       "      <td>0</td>\n",
       "      <td>0</td>\n",
       "    </tr>\n",
       "    <tr>\n",
       "      <th>3</th>\n",
       "      <td>7797314</td>\n",
       "      <td>원작의 긴장감을 제대로 살려내지못했다.</td>\n",
       "      <td>1</td>\n",
       "      <td>0</td>\n",
       "      <td>0</td>\n",
       "      <td>0</td>\n",
       "      <td>0</td>\n",
       "    </tr>\n",
       "    <tr>\n",
       "      <th>4</th>\n",
       "      <td>9443947</td>\n",
       "      <td>별 반개도 아깝다 욕나온다 이응경 길용우 연기생활이몇년인지..정말 발로해도 그것보단...</td>\n",
       "      <td>1</td>\n",
       "      <td>0</td>\n",
       "      <td>0</td>\n",
       "      <td>0</td>\n",
       "      <td>1</td>\n",
       "    </tr>\n",
       "  </tbody>\n",
       "</table>\n",
       "</div>"
      ],
      "text/plain": [
       "        id                                           document  toxic  obscene  \\\n",
       "0  9976970                                아 더빙.. 진짜 짜증나네요 목소리      1        0   \n",
       "1  9045019                      교도소 이야기구먼 ..솔직히 재미는 없다..평점 조정      1        0   \n",
       "2  5403919      막 걸음마 뗀 3세부터 초등학교 1학년생인 8살용영화.ㅋㅋㅋ...별반개도 아까움.      1        0   \n",
       "3  7797314                              원작의 긴장감을 제대로 살려내지못했다.      1        0   \n",
       "4  9443947  별 반개도 아깝다 욕나온다 이응경 길용우 연기생활이몇년인지..정말 발로해도 그것보단...      1        0   \n",
       "\n",
       "   threat  insult  identity_hate  \n",
       "0       0       0              0  \n",
       "1       0       0              0  \n",
       "2       0       0              0  \n",
       "3       0       0              0  \n",
       "4       0       0              1  "
      ]
     },
     "execution_count": 6,
     "metadata": {},
     "output_type": "execute_result"
    }
   ],
   "source": [
    "ko_train_label = pd.read_csv(\"/Users/hongnadan/PycharmProjects/capstone-chatbot/data_preprocess/data/ko_train_label.csv\")\n",
    "\n",
    "print(f\"shape : {ko_train_label.shape}\")\n",
    "\n",
    "\n",
    "ko_train_label.head()"
   ]
  },
  {
   "cell_type": "code",
   "execution_count": 8,
   "metadata": {},
   "outputs": [
    {
     "name": "stdout",
     "output_type": "stream",
     "text": [
      "One shape : (9999999, 1)\n",
      "Two shape :                          이 상황에 실검1위 제시.......우리나라도 참......\n",
      "0        제발 옹호하지마라 나라에대한자각이없는거냐 나라 뒤엎을려는놈인대 무슨증거조작인데 참나...\n",
      "1        궁금한게 있는데 가끔 뉴스에 보면 민주당 당직자들 회의하고 그럴때 벽에 김대중이랑 ...\n",
      "2        전쟁은 안나면 좋지만 난다면 싸우겠다는게 뭐가 잘못된거냐? 그럼 가만히 손놓고 유린...\n",
      "3                                   대통령이아닌 사람대사람으로 좋아하는거군요\n",
      "4                                      전시국민행동요령 좀 기사 올려주세요\n",
      "...                                                    ...\n",
      "9999994                 진심으로 외국정치인 수입했으면 좋겠다. 국내에는 사람이 없다.\n",
      "9999995           국민들 불호령이 떨어지면 하고 가만 있으면 안하고 할 사안인가? 참...\n",
      "9999996                             박그네는 장관직도 뺑뺑이 돌려서 뽑나봐~\n",
      "9999997  대한민국은 누구의 나라인가..국민이 죽어나가는데 책임자들은 누구의 눈치를 보고있는가...\n",
      "9999998                        생긴것도 그렇고 방사능 맞은 우럭 같이 생겼어여.\n",
      "\n",
      "[9999999 rows x 1 columns]\n",
      "Three shape :         그래 대통령 욕은 왜하는겨, 정녕 욕먹을 사람은 선장이랑 이후 대처를 제대로 하지못한 해수부, 안행부가 그나마 대상아닌가?\n",
      "0                                      시바 잘하는 짓거리다 가관이네 가관                  \n",
      "1                                       누가되도 이보단 최악일수없다...                  \n",
      "2          근데 솔까 항상 청문회때 저런 질문들 하든데.. 걍 무뇌인거 입증하는거 뿐이 안됨..                  \n",
      "3                                  이래서 진짜 국민 무소속이 대통령이 되야함                  \n",
      "4        얼마전에 본 팀버튼의 이상한 나라의 앨리스 영화 생각납니다. 못된 여왕은 큰 얼굴이...                  \n",
      "...                                                    ...                  \n",
      "9999994                            근혜야 그러니 니 아부지가 총 맞고 죽은겨                  \n",
      "9999995  닭모가지 비틀어도 일년은 간다 알아서 기어내려옴 콩밥은 안처먹겠지만 다음정권땐 누구...                  \n",
      "9999996  세상에서 제일 무서운사람은 잃을게 없는사람 입니다 이할망구에게 남편이나 애나 손주가...                  \n",
      "9999997             과연 박근혜가 최순실들어간 이후 안 만났을까? 어떻게든 만났을듯...                  \n",
      "9999998    옘병할...이제 색깔론 종북몰이 전라도몰이도 안먹히고 알바하기 힘들어죽겠네...ㅅ ㅂ                  \n",
      "\n",
      "[9999999 rows x 1 columns]\n",
      "Four shape :         국민 백만명이 촛불 집회를 했으면 ,, 대통령 국가 내란 죄 아닌가 ? 아직도 모르나 ? 이런 식이면 평화집회가 아니라 폭력 집회로 바꿔야 한다\n",
      "0        제발 대통령 좀 바꿔주세요.ㅠㅠ이건 무늬만 민주주의지 부폐와비리로 얼룩진 공산주의....                              \n",
      "1        지금 jtbc보다 눈깔 뒤집어진다 세월호 300명 학생이 죽었는데 이걸빌미로 반동세...                              \n",
      "2                  나라를 가루낸 중범죄자를 참고인이 말이돼? 박근혜 피의자구속 수사하라!                              \n",
      "3                               박근혜‥ 당신은 참으로 나쁜사람입니다‥아시나요?                              \n",
      "4                     박근혜 스스로 검찰조사도 받을 의향있다더니.. 왜저러는건지....                              \n",
      "...                                                    ...                              \n",
      "7379114                                 작성자에 의해 삭제된 댓글입니다.                              \n",
      "7379115                                               댓글모음                              \n",
      "7379116  쟁인아 그냥 리석기를 총리로 , 리정희를 외교장관으로 지명하고 연방제통일하고 나라 ...                              \n",
      "7379117                                               댓글모음                              \n",
      "7379118                                               댓글모음                              \n",
      "\n",
      "[7379119 rows x 1 columns]\n"
     ]
    },
    {
     "data": {
      "text/html": [
       "<div>\n",
       "<style scoped>\n",
       "    .dataframe tbody tr th:only-of-type {\n",
       "        vertical-align: middle;\n",
       "    }\n",
       "\n",
       "    .dataframe tbody tr th {\n",
       "        vertical-align: top;\n",
       "    }\n",
       "\n",
       "    .dataframe thead th {\n",
       "        text-align: right;\n",
       "    }\n",
       "</style>\n",
       "<table border=\"1\" class=\"dataframe\">\n",
       "  <thead>\n",
       "    <tr style=\"text-align: right;\">\n",
       "      <th></th>\n",
       "      <th>네놈이 죽였으니 영원히 못잊겠지 돼지새끼 뻔뻔함 지리구요. 인간성 더러운거 오지구요.</th>\n",
       "    </tr>\n",
       "  </thead>\n",
       "  <tbody>\n",
       "    <tr>\n",
       "      <th>0</th>\n",
       "      <td>김양건이 영웅대접 받아서 또 질투났나보네.자기 위치를 조금 불안하게 할 것 같은 사...</td>\n",
       "    </tr>\n",
       "    <tr>\n",
       "      <th>1</th>\n",
       "      <td>암살하고 조문. . . 짜슥 많이 늘었군</td>\n",
       "    </tr>\n",
       "    <tr>\n",
       "      <th>2</th>\n",
       "      <td>교통사고인데 되게 말짱하네요</td>\n",
       "    </tr>\n",
       "    <tr>\n",
       "      <th>3</th>\n",
       "      <td>아니 스.벌. 과거에 독립군들 그리 많았던 민족 맞냐..??어떻게 정은이 한명 암살...</td>\n",
       "    </tr>\n",
       "    <tr>\n",
       "      <th>4</th>\n",
       "      <td>차도 없는 나라에서 어떻게 하면 교통사고로 죽을 수 있지</td>\n",
       "    </tr>\n",
       "  </tbody>\n",
       "</table>\n",
       "</div>"
      ],
      "text/plain": [
       "     네놈이 죽였으니 영원히 못잊겠지 돼지새끼 뻔뻔함 지리구요. 인간성 더러운거 오지구요.\n",
       "0  김양건이 영웅대접 받아서 또 질투났나보네.자기 위치를 조금 불안하게 할 것 같은 사...\n",
       "1                             암살하고 조문. . . 짜슥 많이 늘었군\n",
       "2                                    교통사고인데 되게 말짱하네요\n",
       "3  아니 스.벌. 과거에 독립군들 그리 많았던 민족 맞냐..??어떻게 정은이 한명 암살...\n",
       "4                    차도 없는 나라에서 어떻게 하면 교통사고로 죽을 수 있지"
      ]
     },
     "execution_count": 8,
     "metadata": {},
     "output_type": "execute_result"
    }
   ],
   "source": [
    "online_comment_one = pd.read_csv(\"/Users/hongnadan/PycharmProjects/capstone-chatbot/data_preprocess/data/온라인_댓글_데이터셋(1).csv\")\n",
    "online_comment_two = pd.read_csv(\"/Users/hongnadan/PycharmProjects/capstone-chatbot/data_preprocess/data/온라인_댓글_데이터셋(2).csv\")\n",
    "online_comment_three = pd.read_csv(\"/Users/hongnadan/PycharmProjects/capstone-chatbot/data_preprocess/data/온라인_댓글_데이터셋(3).csv\")\n",
    "online_comment_four = pd.read_csv(\"/Users/hongnadan/PycharmProjects/capstone-chatbot/data_preprocess/data/온라인_댓글_데이터셋(4).csv\")\n",
    "\n",
    "print(f\"One shape : {online_comment_one.shape}\", f\"Two shape : {online_comment_two}\", f\"Three shape : {online_comment_three}\", f\"Four shape : {online_comment_four}\", sep=\"\\n\")\n",
    "\n",
    "\n",
    "online_comment_one.head()"
   ]
  },
  {
   "cell_type": "code",
   "execution_count": 17,
   "metadata": {},
   "outputs": [
    {
     "data": {
      "text/plain": [
       "['toxic', 'obscene', 'threat', 'insult', 'identity_hate']"
      ]
     },
     "execution_count": 17,
     "metadata": {},
     "output_type": "execute_result"
    }
   ],
   "source": [
    "sentiment_label = []\n",
    "for c in ko_train_label.columns:\n",
    "    if c == \"id\" or c == \"document\":\n",
    "        continue\n",
    "        \n",
    "    sentiment_label.append(c)\n",
    "    \n",
    "sentiment_label"
   ]
  },
  {
   "cell_type": "code",
   "execution_count": 18,
   "metadata": {},
   "outputs": [
    {
     "data": {
      "text/plain": [
       "{'toxic': 0, 'obscene': 1, 'threat': 2, 'insult': 3, 'identity_hate': 4}"
      ]
     },
     "execution_count": 18,
     "metadata": {},
     "output_type": "execute_result"
    }
   ],
   "source": [
    "sentiment_doc = {}\n",
    "\n",
    "for i, s in enumerate(sentiment_label):\n",
    "    sentiment_doc[s] = i\n",
    "    \n",
    "sentiment_doc"
   ]
  },
  {
   "cell_type": "code",
   "execution_count": null,
   "metadata": {},
   "outputs": [],
   "source": [
    " zk"
   ]
  }
 ],
 "metadata": {
  "kernelspec": {
   "display_name": "Python 3",
   "language": "python",
   "name": "python3"
  },
  "language_info": {
   "codemirror_mode": {
    "name": "ipython",
    "version": 3
   },
   "file_extension": ".py",
   "mimetype": "text/x-python",
   "name": "python",
   "nbconvert_exporter": "python",
   "pygments_lexer": "ipython3",
   "version": "3.7.7"
  }
 },
 "nbformat": 4,
 "nbformat_minor": 4
}
