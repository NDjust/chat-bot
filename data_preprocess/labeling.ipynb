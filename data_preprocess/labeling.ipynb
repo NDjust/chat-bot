{
 "cells": [
  {
   "cell_type": "code",
   "execution_count": 71,
   "metadata": {},
   "outputs": [],
   "source": [
    "import pandas as pd\n",
    "from load_abuse_data import get_abuse_data"
   ]
  },
  {
   "cell_type": "code",
   "execution_count": 72,
   "metadata": {},
   "outputs": [
    {
     "data": {
      "text/html": [
       "<div>\n",
       "<style scoped>\n",
       "    .dataframe tbody tr th:only-of-type {\n",
       "        vertical-align: middle;\n",
       "    }\n",
       "\n",
       "    .dataframe tbody tr th {\n",
       "        vertical-align: top;\n",
       "    }\n",
       "\n",
       "    .dataframe thead th {\n",
       "        text-align: right;\n",
       "    }\n",
       "</style>\n",
       "<table border=\"1\" class=\"dataframe\">\n",
       "  <thead>\n",
       "    <tr style=\"text-align: right;\">\n",
       "      <th></th>\n",
       "      <th>id</th>\n",
       "      <th>title</th>\n",
       "      <th>view_count</th>\n",
       "      <th>recommend_count</th>\n",
       "    </tr>\n",
       "  </thead>\n",
       "  <tbody>\n",
       "    <tr>\n",
       "      <th>0</th>\n",
       "      <td>1</td>\n",
       "      <td>막장드라마 최적화 배우는?</td>\n",
       "      <td>0</td>\n",
       "      <td>0</td>\n",
       "    </tr>\n",
       "    <tr>\n",
       "      <th>1</th>\n",
       "      <td>2</td>\n",
       "      <td>너구리 없고 페이커 1등..LOL 올스타전, 선수 투표 개시</td>\n",
       "      <td>2395</td>\n",
       "      <td>16</td>\n",
       "    </tr>\n",
       "    <tr>\n",
       "      <th>2</th>\n",
       "      <td>3</td>\n",
       "      <td>막장드라마 최적화 배우는?</td>\n",
       "      <td>0</td>\n",
       "      <td>0</td>\n",
       "    </tr>\n",
       "    <tr>\n",
       "      <th>3</th>\n",
       "      <td>4</td>\n",
       "      <td>리그 오브 레전드 관련 내용이 있어야 합니다.</td>\n",
       "      <td>19916</td>\n",
       "      <td>24</td>\n",
       "    </tr>\n",
       "    <tr>\n",
       "      <th>4</th>\n",
       "      <td>5</td>\n",
       "      <td>분석데스크가 왜 좆돌 철밥통인지 이제 알겠네</td>\n",
       "      <td>89</td>\n",
       "      <td>0</td>\n",
       "    </tr>\n",
       "  </tbody>\n",
       "</table>\n",
       "</div>"
      ],
      "text/plain": [
       "   id                              title  view_count  recommend_count\n",
       "0   1                     막장드라마 최적화 배우는?           0                0\n",
       "1   2  너구리 없고 페이커 1등..LOL 올스타전, 선수 투표 개시        2395               16\n",
       "2   3                     막장드라마 최적화 배우는?           0                0\n",
       "3   4          리그 오브 레전드 관련 내용이 있어야 합니다.       19916               24\n",
       "4   5           분석데스크가 왜 좆돌 철밥통인지 이제 알겠네          89                0"
      ]
     },
     "execution_count": 72,
     "metadata": {},
     "output_type": "execute_result"
    }
   ],
   "source": [
    "df = pd.read_csv(\"./data/dc_data.csv\")\n",
    "\n",
    "\n",
    "df.head()"
   ]
  },
  {
   "cell_type": "code",
   "execution_count": 73,
   "metadata": {},
   "outputs": [
    {
     "data": {
      "text/plain": [
       "['막장드라마 최적화 배우는?',\n",
       " '너구리 없고 페이커 1등..LOL 올스타전, 선수 투표 개시',\n",
       " '막장드라마 최적화 배우는?',\n",
       " '리그 오브 레전드 관련 내용이 있어야 합니다.',\n",
       " '분석데스크가 왜 좆돌 철밥통인지 이제 알겠네',\n",
       " '에이 싯팔',\n",
       " '노브랜드버거 먹어본사람???',\n",
       " '막장드라마 최적화 배우는?',\n",
       " '지휘관의 깃발, 즈롯차원문도 밸런스 못 잡아 놓고',\n",
       " '리신 vs 그브 구도가 어떻게됨?']"
      ]
     },
     "execution_count": 73,
     "metadata": {},
     "output_type": "execute_result"
    }
   ],
   "source": [
    "title_list = list(df.title)\n",
    "\n",
    "\n",
    "title_list[:10]"
   ]
  },
  {
   "cell_type": "code",
   "execution_count": 74,
   "metadata": {},
   "outputs": [],
   "source": [
    "abuse_data = get_abuse_data()"
   ]
  },
  {
   "cell_type": "code",
   "execution_count": 75,
   "metadata": {},
   "outputs": [
    {
     "data": {
      "text/plain": [
       "['너구리', '페이커', '등', '올스타', '전', '선수', '투표', '개시']"
      ]
     },
     "execution_count": 75,
     "metadata": {},
     "output_type": "execute_result"
    }
   ],
   "source": [
    "from konlpy.tag import Mecab\n",
    "\n",
    "m = Mecab()\n",
    "\n",
    "m.nouns(title_list[1])"
   ]
  },
  {
   "cell_type": "code",
   "execution_count": 76,
   "metadata": {},
   "outputs": [],
   "source": [
    "dc_nouns_dic = {}\n",
    "\n",
    "\n",
    "for i, title in enumerate(title_list):\n",
    "    nouns = m.nouns(title)\n",
    "    \n",
    "    for n in nouns:        \n",
    "        if n not in dc_nouns_dic.keys():\n",
    "            dc_nouns_dic[n] = 1\n",
    "            continue\n",
    "\n",
    "        dc_nouns_dic[n] += 1"
   ]
  },
  {
   "cell_type": "code",
   "execution_count": 77,
   "metadata": {},
   "outputs": [],
   "source": [
    "dc_nouns_dic = {k: v for k, v in sorted(dc_nouns_dic.items(), key=lambda item: item[1], reverse=True)}"
   ]
  },
  {
   "cell_type": "code",
   "execution_count": 78,
   "metadata": {},
   "outputs": [
    {
     "name": "stdout",
     "output_type": "stream",
     "text": [
      "Nouns Count : 51855\n",
      "욕설 개수 : 5073\n"
     ]
    }
   ],
   "source": [
    "print(f\"Nouns Count : {len(dc_nouns_dic)}\")\n",
    "abuse_data = list(set(abuse_data))\n",
    "print(f\"욕설 개수 : {len(abuse_data)}\")"
   ]
  },
  {
   "cell_type": "markdown",
   "metadata": {},
   "source": [
    "### 레이블링"
   ]
  },
  {
   "cell_type": "code",
   "execution_count": 79,
   "metadata": {},
   "outputs": [
    {
     "data": {
      "text/plain": [
       "[['막장 드라마 최적화 배우', 0],\n",
       " ['너구리 페이커 등 올스타 전 선수 투표 개시', 0],\n",
       " ['막장 드라마 최적화 배우', 0],\n",
       " ['리그 오브 레전드 관련 내용', 0],\n",
       " ['분석 데스크 좆 돌 철 밥통', 1]]"
      ]
     },
     "execution_count": 79,
     "metadata": {},
     "output_type": "execute_result"
    }
   ],
   "source": [
    "title_tag = []\n",
    "\n",
    "\n",
    "for title in title_list:\n",
    "    nouns = m.nouns(title)\n",
    "    title_nouns = \" \".join(nouns)\n",
    "    contain_aubuse_word = False\n",
    "    for n in nouns:\n",
    "        if n in abuse_data:\n",
    "            contain_aubuse_word = True\n",
    "            break\n",
    "    \n",
    "    if contain_aubuse_word:\n",
    "        title_tag.append([title_nouns, 1])\n",
    "    else:\n",
    "        title_tag.append([title_nouns, 0])\n",
    "    \n",
    "    \n",
    "title_tag[:5]"
   ]
  },
  {
   "cell_type": "code",
   "execution_count": 80,
   "metadata": {},
   "outputs": [
    {
     "data": {
      "text/html": [
       "<div>\n",
       "<style scoped>\n",
       "    .dataframe tbody tr th:only-of-type {\n",
       "        vertical-align: middle;\n",
       "    }\n",
       "\n",
       "    .dataframe tbody tr th {\n",
       "        vertical-align: top;\n",
       "    }\n",
       "\n",
       "    .dataframe thead th {\n",
       "        text-align: right;\n",
       "    }\n",
       "</style>\n",
       "<table border=\"1\" class=\"dataframe\">\n",
       "  <thead>\n",
       "    <tr style=\"text-align: right;\">\n",
       "      <th></th>\n",
       "      <th>title_tag</th>\n",
       "      <th>toxic</th>\n",
       "      <th>id</th>\n",
       "    </tr>\n",
       "  </thead>\n",
       "  <tbody>\n",
       "    <tr>\n",
       "      <th>0</th>\n",
       "      <td>막장 드라마 최적화 배우</td>\n",
       "      <td>0</td>\n",
       "      <td>1</td>\n",
       "    </tr>\n",
       "    <tr>\n",
       "      <th>1</th>\n",
       "      <td>너구리 페이커 등 올스타 전 선수 투표 개시</td>\n",
       "      <td>0</td>\n",
       "      <td>2</td>\n",
       "    </tr>\n",
       "    <tr>\n",
       "      <th>2</th>\n",
       "      <td>막장 드라마 최적화 배우</td>\n",
       "      <td>0</td>\n",
       "      <td>3</td>\n",
       "    </tr>\n",
       "    <tr>\n",
       "      <th>3</th>\n",
       "      <td>리그 오브 레전드 관련 내용</td>\n",
       "      <td>0</td>\n",
       "      <td>4</td>\n",
       "    </tr>\n",
       "    <tr>\n",
       "      <th>4</th>\n",
       "      <td>분석 데스크 좆 돌 철 밥통</td>\n",
       "      <td>1</td>\n",
       "      <td>5</td>\n",
       "    </tr>\n",
       "  </tbody>\n",
       "</table>\n",
       "</div>"
      ],
      "text/plain": [
       "                  title_tag  toxic  id\n",
       "0             막장 드라마 최적화 배우      0   1\n",
       "1  너구리 페이커 등 올스타 전 선수 투표 개시      0   2\n",
       "2             막장 드라마 최적화 배우      0   3\n",
       "3           리그 오브 레전드 관련 내용      0   4\n",
       "4           분석 데스크 좆 돌 철 밥통      1   5"
      ]
     },
     "execution_count": 80,
     "metadata": {},
     "output_type": "execute_result"
    }
   ],
   "source": [
    "label_df = pd.DataFrame(title_tag, columns=[\"title_tag\", \"toxic\"])\n",
    "label_df[\"id\"] = df[\"id\"]\n",
    "\n",
    "\n",
    "label_df.head()"
   ]
  },
  {
   "cell_type": "code",
   "execution_count": 81,
   "metadata": {},
   "outputs": [
    {
     "data": {
      "text/html": [
       "<div>\n",
       "<style scoped>\n",
       "    .dataframe tbody tr th:only-of-type {\n",
       "        vertical-align: middle;\n",
       "    }\n",
       "\n",
       "    .dataframe tbody tr th {\n",
       "        vertical-align: top;\n",
       "    }\n",
       "\n",
       "    .dataframe thead th {\n",
       "        text-align: right;\n",
       "    }\n",
       "</style>\n",
       "<table border=\"1\" class=\"dataframe\">\n",
       "  <thead>\n",
       "    <tr style=\"text-align: right;\">\n",
       "      <th></th>\n",
       "      <th>title_tag</th>\n",
       "      <th>toxic</th>\n",
       "      <th>id</th>\n",
       "      <th>title</th>\n",
       "    </tr>\n",
       "  </thead>\n",
       "  <tbody>\n",
       "    <tr>\n",
       "      <th>0</th>\n",
       "      <td>막장 드라마 최적화 배우</td>\n",
       "      <td>0</td>\n",
       "      <td>1</td>\n",
       "      <td>막장드라마 최적화 배우는?</td>\n",
       "    </tr>\n",
       "    <tr>\n",
       "      <th>1</th>\n",
       "      <td>너구리 페이커 등 올스타 전 선수 투표 개시</td>\n",
       "      <td>0</td>\n",
       "      <td>2</td>\n",
       "      <td>너구리 없고 페이커 1등..LOL 올스타전, 선수 투표 개시</td>\n",
       "    </tr>\n",
       "    <tr>\n",
       "      <th>2</th>\n",
       "      <td>막장 드라마 최적화 배우</td>\n",
       "      <td>0</td>\n",
       "      <td>3</td>\n",
       "      <td>막장드라마 최적화 배우는?</td>\n",
       "    </tr>\n",
       "    <tr>\n",
       "      <th>3</th>\n",
       "      <td>리그 오브 레전드 관련 내용</td>\n",
       "      <td>0</td>\n",
       "      <td>4</td>\n",
       "      <td>리그 오브 레전드 관련 내용이 있어야 합니다.</td>\n",
       "    </tr>\n",
       "    <tr>\n",
       "      <th>4</th>\n",
       "      <td>분석 데스크 좆 돌 철 밥통</td>\n",
       "      <td>1</td>\n",
       "      <td>5</td>\n",
       "      <td>분석데스크가 왜 좆돌 철밥통인지 이제 알겠네</td>\n",
       "    </tr>\n",
       "  </tbody>\n",
       "</table>\n",
       "</div>"
      ],
      "text/plain": [
       "                  title_tag  toxic  id                              title\n",
       "0             막장 드라마 최적화 배우      0   1                     막장드라마 최적화 배우는?\n",
       "1  너구리 페이커 등 올스타 전 선수 투표 개시      0   2  너구리 없고 페이커 1등..LOL 올스타전, 선수 투표 개시\n",
       "2             막장 드라마 최적화 배우      0   3                     막장드라마 최적화 배우는?\n",
       "3           리그 오브 레전드 관련 내용      0   4          리그 오브 레전드 관련 내용이 있어야 합니다.\n",
       "4           분석 데스크 좆 돌 철 밥통      1   5           분석데스크가 왜 좆돌 철밥통인지 이제 알겠네"
      ]
     },
     "execution_count": 81,
     "metadata": {},
     "output_type": "execute_result"
    }
   ],
   "source": [
    "label_df[\"title\"] = df[\"title\"]\n",
    "\n",
    "\n",
    "label_df.head()"
   ]
  },
  {
   "cell_type": "code",
   "execution_count": 82,
   "metadata": {},
   "outputs": [
    {
     "name": "stdout",
     "output_type": "stream",
     "text": [
      "일반 문장 : 13.84350143019474, 욕설 문장 86.15649856980527\n"
     ]
    },
    {
     "data": {
      "text/plain": [
       "<AxesSubplot:>"
      ]
     },
     "execution_count": 82,
     "metadata": {},
     "output_type": "execute_result"
    },
    {
     "data": {
      "image/png": "[encoded data removed]",
      "text/plain": [
       "<Figure size 432x288 with 1 Axes>"
      ]
     },
     "metadata": {
      "needs_background": "light"
     },
     "output_type": "display_data"
    }
   ],
   "source": [
    "total_count = len(label_df.toxic)\n",
    "toxic_count = label_df.toxic.value_counts()[0]\n",
    "general_count = label_df.toxic.value_counts()[1]\n",
    "\n",
    "\n",
    "print(f\"일반 문장 : {100 * (general_count / total_count)}, 욕설 문장 {100 * (toxic_count / total_count)}\")\n",
    "\n",
    "label_df.toxic.value_counts().plot(kind=\"bar\")"
   ]
  },
  {
   "cell_type": "markdown",
   "metadata": {},
   "source": [
    "### Resampling\n",
    "---\n",
    "\n"
   ]
  },
  {
   "cell_type": "code",
   "execution_count": 83,
   "metadata": {},
   "outputs": [],
   "source": [
    "count_class_0, count_class_1 = label_df.toxic.value_counts()\n",
    "\n",
    "# Divide by class\n",
    "df_class_0 = label_df[label_df['toxic'] == 0]\n",
    "df_class_1 = label_df[label_df['toxic'] == 1]"
   ]
  },
  {
   "cell_type": "code",
   "execution_count": 84,
   "metadata": {
    "scrolled": false
   },
   "outputs": [
    {
     "name": "stdout",
     "output_type": "stream",
     "text": [
      "Random under-sampling:\n",
      "1    151919\n",
      "0    151919\n",
      "Name: toxic, dtype: int64\n"
     ]
    },
    {
     "data": {
      "image/png": "[encoded data removed]",
      "text/plain": [
       "<Figure size 432x288 with 1 Axes>"
      ]
     },
     "metadata": {
      "needs_background": "light"
     },
     "output_type": "display_data"
    }
   ],
   "source": [
    "df_class_0_under = df_class_0.sample(count_class_1)\n",
    "df_test_under = pd.concat([df_class_0_under, df_class_1], axis=0)\n",
    "\n",
    "print('Random under-sampling:')\n",
    "print(df_test_under.toxic.value_counts())\n",
    "\n",
    "df_test_under.toxic.value_counts().plot(kind='bar', title='Count (Toxic)');"
   ]
  },
  {
   "cell_type": "code",
   "execution_count": 16,
   "metadata": {},
   "outputs": [
    {
     "data": {
      "text/html": [
       "<div>\n",
       "<style scoped>\n",
       "    .dataframe tbody tr th:only-of-type {\n",
       "        vertical-align: middle;\n",
       "    }\n",
       "\n",
       "    .dataframe tbody tr th {\n",
       "        vertical-align: top;\n",
       "    }\n",
       "\n",
       "    .dataframe thead th {\n",
       "        text-align: right;\n",
       "    }\n",
       "</style>\n",
       "<table border=\"1\" class=\"dataframe\">\n",
       "  <thead>\n",
       "    <tr style=\"text-align: right;\">\n",
       "      <th></th>\n",
       "      <th>title_tag</th>\n",
       "      <th>toxic</th>\n",
       "      <th>id</th>\n",
       "      <th>title</th>\n",
       "    </tr>\n",
       "  </thead>\n",
       "  <tbody>\n",
       "    <tr>\n",
       "      <th>769111</th>\n",
       "      <td>브리지트</td>\n",
       "      <td>0</td>\n",
       "      <td>769117</td>\n",
       "      <td>누비는 브리지트를 팼어오</td>\n",
       "    </tr>\n",
       "    <tr>\n",
       "      <th>351991</th>\n",
       "      <td>대상 혁 클라 쓰</td>\n",
       "      <td>0</td>\n",
       "      <td>351992</td>\n",
       "      <td>대상혁 인지도 클라쓰.jpg</td>\n",
       "    </tr>\n",
       "    <tr>\n",
       "      <th>185091</th>\n",
       "      <td>트 너구리 베릴 지투 삼 대 떡 젠지 넘버원</td>\n",
       "      <td>0</td>\n",
       "      <td>185092</td>\n",
       "      <td>팩트)너구리.베릴 빠지면 지투한테 삼대떡 당한 젠지가 lck 넘버원 ㅋ1</td>\n",
       "    </tr>\n",
       "    <tr>\n",
       "      <th>240773</th>\n",
       "      <td>전용준 ㅈ ㄴ</td>\n",
       "      <td>0</td>\n",
       "      <td>240774</td>\n",
       "      <td>전용준 ㅈㄴ 시끄럽기만하네ㅋㅋㅋㅋ</td>\n",
       "    </tr>\n",
       "    <tr>\n",
       "      <th>730944</th>\n",
       "      <td>막장 드라마 최적화 배우</td>\n",
       "      <td>0</td>\n",
       "      <td>730950</td>\n",
       "      <td>막장드라마 최적화 배우는?</td>\n",
       "    </tr>\n",
       "  </tbody>\n",
       "</table>\n",
       "</div>"
      ],
      "text/plain": [
       "                       title_tag  toxic      id  \\\n",
       "769111                      브리지트      0  769117   \n",
       "351991                 대상 혁 클라 쓰      0  351992   \n",
       "185091  트 너구리 베릴 지투 삼 대 떡 젠지 넘버원      0  185092   \n",
       "240773                   전용준 ㅈ ㄴ      0  240774   \n",
       "730944             막장 드라마 최적화 배우      0  730950   \n",
       "\n",
       "                                           title  \n",
       "769111                             누비는 브리지트를 팼어오  \n",
       "351991                           대상혁 인지도 클라쓰.jpg  \n",
       "185091  팩트)너구리.베릴 빠지면 지투한테 삼대떡 당한 젠지가 lck 넘버원 ㅋ1  \n",
       "240773                        전용준 ㅈㄴ 시끄럽기만하네ㅋㅋㅋㅋ  \n",
       "730944                            막장드라마 최적화 배우는?  "
      ]
     },
     "execution_count": 16,
     "metadata": {},
     "output_type": "execute_result"
    }
   ],
   "source": [
    "df_test_under.head()"
   ]
  },
  {
   "cell_type": "code",
   "execution_count": 17,
   "metadata": {},
   "outputs": [],
   "source": [
    "x = df_test_under.title\n",
    "y = df_test_under.toxic"
   ]
  },
  {
   "cell_type": "code",
   "execution_count": 18,
   "metadata": {},
   "outputs": [
    {
     "data": {
      "text/plain": [
       "'ㅇㅏㄴㄴㅕㅇㅎㅏㅅㅔㅇㅛ ㅈㅓㄴㅡㄴ ㅎㅗㅇㄴㅏㄷㅏㄴㅇㅣㅂㄴㅣㄷㅏ.'"
      ]
     },
     "execution_count": 18,
     "metadata": {},
     "output_type": "execute_result"
    }
   ],
   "source": [
    "from jamo import h2j, j2hcj\n",
    "\n",
    "sample_text = \"안녕하세요 저는 홍나단입니다.\"\n",
    "\n",
    "j2hcj(h2j(sample_text))"
   ]
  },
  {
   "cell_type": "code",
   "execution_count": 19,
   "metadata": {},
   "outputs": [],
   "source": [
    "def split_jamo(text):\n",
    "    return j2hcj(h2j(text))"
   ]
  },
  {
   "cell_type": "code",
   "execution_count": 28,
   "metadata": {
    "scrolled": true
   },
   "outputs": [
    {
     "data": {
      "text/plain": [
       "['ㅇㅣ ㅈㅜㅇㅇㅔ ㅁㅝㄱㅏ ㅈㅔㅇㅣㄹ ㅈㅗㅎㅇㅡㅁ?',\n",
       " 'ㄷㅏㄴㅈㅏㅇㄷㅡㄹㅇㅣ ㄸㅗㅇㅆㅏㅈㅐㄲㅣㄴㅡㄴㄱㅓㄴ ㅁㅗㄷㅡㄴ ㅅㅡㅍㅗㅊㅡㄱㅏ ㄸㅗㄱㄱㅏㅌㄴㅗ',\n",
       " 'ㅍㅏㄹㅡㅎㅗㄹㄹㅡㄴ ㄷㅐㄹㅣㅁㅏㅌㄱㅕㅆㄴㅡㄴㄷㅔ',\n",
       " 'ㅁㅜㄴㅁㅕㅇ 5ㅅㅏㄹㄲㅏ 6ㅅㅏㄹㄲㅏ?',\n",
       " 'ㅅㅗㄹㅈㅣㄱㅎㅣ ㄴㅓㄱㅜㄹㅣ ㅍㅐㄴㅇㅣㄴㄷㅔ ㄴㅓㅁㅜㅎㅏㄴㅔ...']"
      ]
     },
     "execution_count": 28,
     "metadata": {},
     "output_type": "execute_result"
    }
   ],
   "source": [
    "jamo_x = []\n",
    "\n",
    "\n",
    "for title in x:\n",
    "    jamo_x.append(split_jamo(title))\n",
    "\n",
    "jamo_x[:5]"
   ]
  },
  {
   "cell_type": "code",
   "execution_count": 23,
   "metadata": {},
   "outputs": [
    {
     "data": {
      "text/plain": [
       "['ㅇㅣ ㅈㅜㅇㅇㅔ ㅁㅝㄱㅏ ㅈㅔㅇㅣㄹ ㅈㅗㅎㅇㅡㅁ?',\n",
       " 'ㄷㅏㄴㅈㅏㅇㄷㅡㄹㅇㅣ ㄸㅗㅇㅆㅏㅈㅐㄲㅣㄴㅡㄴㄱㅓㄴ ㅁㅗㄷㅡㄴ ㅅㅡㅍㅗㅊㅡㄱㅏ ㄸㅗㄱㄱㅏㅌㄴㅗ',\n",
       " 'ㅍㅏㄹㅡㅎㅗㄹㄹㅡㄴ ㄷㅐㄹㅣㅁㅏㅌㄱㅕㅆㄴㅡㄴㄷㅔ',\n",
       " 'ㅁㅜㄴㅁㅕㅇ 5ㅅㅏㄹㄲㅏ 6ㅅㅏㄹㄲㅏ?',\n",
       " 'ㅅㅗㄹㅈㅣㄱㅎㅣ ㄴㅓㄱㅜㄹㅣ ㅍㅐㄴㅇㅣㄴㄷㅔ ㄴㅓㅁㅜㅎㅏㄴㅔ...']"
      ]
     },
     "execution_count": 23,
     "metadata": {},
     "output_type": "execute_result"
    }
   ],
   "source": [
    "import pickle    \n",
    "\n",
    "with open(\"./jamo_x.pickle\", \"rb\") as f:\n",
    "    jamo_x = pickle.load(f)\n",
    "jamo_x[:5]"
   ]
  },
  {
   "cell_type": "code",
   "execution_count": 24,
   "metadata": {},
   "outputs": [],
   "source": [
    "def get_max_length(jamo_x: list):\n",
    "    max_length = 0\n",
    "    for x in jamo_x:\n",
    "        curr_len = len(x)\n",
    "        \n",
    "        if curr_len > max_length:\n",
    "            max_length = curr_len\n",
    "    return max_length"
   ]
  },
  {
   "cell_type": "code",
   "execution_count": 27,
   "metadata": {
    "scrolled": true
   },
   "outputs": [
    {
     "data": {
      "text/plain": [
       "173"
      ]
     },
     "execution_count": 27,
     "metadata": {},
     "output_type": "execute_result"
    }
   ],
   "source": [
    "max_len = get_max_length(jamo_x)\n",
    "\n",
    "max_len"
   ]
  },
  {
   "cell_type": "code",
   "execution_count": 69,
   "metadata": {},
   "outputs": [
    {
     "data": {
      "text/plain": [
       "(151919, 151919, 303838)"
      ]
     },
     "execution_count": 69,
     "metadata": {},
     "output_type": "execute_result"
    }
   ],
   "source": [
    "jamo_data = []\n",
    "jamo_toxic = []\n",
    "jamo_plain = []\n",
    "y_values = list(y)\n",
    "for i in range(len(jamo_x)):\n",
    "    toxic = y_values[i]\n",
    "    jamo_data.append([jamo_x[i], toxic])\n",
    "    if toxic == 1:\n",
    "        jamo_toxic.append(jamo_x[i])\n",
    "    else:\n",
    "        jamo_plain.append(jamo_x[i])\n",
    "\n",
    "len(jamo_plain), len(jamo_toxic), len(jamo_data)"
   ]
  },
  {
   "cell_type": "code",
   "execution_count": 70,
   "metadata": {},
   "outputs": [],
   "source": [
    "with open(\"./jamo_toxic.pickle\", \"wb\") as f:\n",
    "    pickle.dump(jamo_toxic, f)\n",
    "    \n",
    "with open(\"./jamo_plain.pickle\", \"wb\") as f:\n",
    "    pickle.dump(jamo_plain, f)\n",
    "    \n",
    "with open(\"./jamo_data.pickle\", \"wb\") as f:\n",
    "    pickle.dump(jamo_data, f)"
   ]
  },
  {
   "cell_type": "code",
   "execution_count": 67,
   "metadata": {},
   "outputs": [
    {
     "data": {
      "text/plain": [
       "(151919, 151919, 303838)"
      ]
     },
     "execution_count": 67,
     "metadata": {},
     "output_type": "execute_result"
    }
   ],
   "source": [
    "title_toxic = []\n",
    "title_plain = []\n",
    "title_total = []\n",
    "for title, toxic in zip(x, y):\n",
    "\n",
    "    if toxic == 1:\n",
    "        title_toxic.append(title)\n",
    "    else:\n",
    "        title_plain.append(title)\n",
    "        \n",
    "    title_total.append([title, toxic])\n",
    "\n",
    "len(title_toxic), len(title_plain), len(title_total)"
   ]
  },
  {
   "cell_type": "code",
   "execution_count": 65,
   "metadata": {},
   "outputs": [
    {
     "data": {
      "text/plain": [
       "([['분석데스크가 왜 좆돌 철밥통인지 이제 알겠네'],\n",
       "  ['프리시즌 좆망함.ㅇㅇ'],\n",
       "  ['노래방가면 섹스엄청함'],\n",
       "  ['16년도 롤 입문이라 그런데 14삼화 어느정도였음?'],\n",
       "  ['짱깨 관여 안한다면서 개 씨발 ㅋㅋ']],\n",
       " [['누비는 브리지트를 팼어오'],\n",
       "  ['대상혁 인지도 클라쓰.jpg'],\n",
       "  ['팩트)너구리.베릴 빠지면 지투한테 삼대떡 당한 젠지가 lck 넘버원 ㅋ1'],\n",
       "  ['전용준 ㅈㄴ 시끄럽기만하네ㅋㅋㅋㅋ'],\n",
       "  ['막장드라마 최적화 배우는?']])"
      ]
     },
     "execution_count": 65,
     "metadata": {},
     "output_type": "execute_result"
    }
   ],
   "source": [
    "title_toxic[:5], title_plain[:5]"
   ]
  },
  {
   "cell_type": "code",
   "execution_count": 68,
   "metadata": {},
   "outputs": [],
   "source": [
    "with open(\"./title_toxic.pickle\", \"wb\") as f:\n",
    "    pickle.dump(title_toxic, f)\n",
    "    \n",
    "    \n",
    "with open(\"./title_plain.pickle\", \"wb\") as f:\n",
    "    pickle.dump(title_plain, f)\n",
    "    \n",
    "with open(\"./title_total.pickle\", \"wb\") as f:\n",
    "    pickle.dump(title_total, f)"
   ]
  }
 ],
 "metadata": {
  "kernelspec": {
   "display_name": "Python 3",
   "language": "python",
   "name": "python3"
  },
  "language_info": {
   "codemirror_mode": {
    "name": "ipython",
    "version": 3
   },
   "file_extension": ".py",
   "mimetype": "text/x-python",
   "name": "python",
   "nbconvert_exporter": "python",
   "pygments_lexer": "ipython3",
   "version": "3.7.7"
  }
 },
 "nbformat": 4,
 "nbformat_minor": 4
}
