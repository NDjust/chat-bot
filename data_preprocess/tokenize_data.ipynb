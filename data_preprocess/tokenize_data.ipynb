{
 "cells": [
  {
   "cell_type": "code",
   "execution_count": 1,
   "metadata": {
    "scrolled": true
   },
   "outputs": [],
   "source": [
    "import pandas as pd\n",
    "from load_abuse_data import get_abuse_data"
   ]
  },
  {
   "cell_type": "code",
   "execution_count": 2,
   "metadata": {},
   "outputs": [
    {
     "data": {
      "text/html": [
       "<div>\n",
       "<style scoped>\n",
       "    .dataframe tbody tr th:only-of-type {\n",
       "        vertical-align: middle;\n",
       "    }\n",
       "\n",
       "    .dataframe tbody tr th {\n",
       "        vertical-align: top;\n",
       "    }\n",
       "\n",
       "    .dataframe thead th {\n",
       "        text-align: right;\n",
       "    }\n",
       "</style>\n",
       "<table border=\"1\" class=\"dataframe\">\n",
       "  <thead>\n",
       "    <tr style=\"text-align: right;\">\n",
       "      <th></th>\n",
       "      <th>id</th>\n",
       "      <th>title</th>\n",
       "      <th>view_count</th>\n",
       "      <th>recommend_count</th>\n",
       "    </tr>\n",
       "  </thead>\n",
       "  <tbody>\n",
       "    <tr>\n",
       "      <th>0</th>\n",
       "      <td>1</td>\n",
       "      <td>막장드라마 최적화 배우는?</td>\n",
       "      <td>0</td>\n",
       "      <td>0</td>\n",
       "    </tr>\n",
       "    <tr>\n",
       "      <th>1</th>\n",
       "      <td>2</td>\n",
       "      <td>너구리 없고 페이커 1등..LOL 올스타전, 선수 투표 개시</td>\n",
       "      <td>2395</td>\n",
       "      <td>16</td>\n",
       "    </tr>\n",
       "    <tr>\n",
       "      <th>2</th>\n",
       "      <td>3</td>\n",
       "      <td>막장드라마 최적화 배우는?</td>\n",
       "      <td>0</td>\n",
       "      <td>0</td>\n",
       "    </tr>\n",
       "    <tr>\n",
       "      <th>3</th>\n",
       "      <td>4</td>\n",
       "      <td>리그 오브 레전드 관련 내용이 있어야 합니다.</td>\n",
       "      <td>19916</td>\n",
       "      <td>24</td>\n",
       "    </tr>\n",
       "    <tr>\n",
       "      <th>4</th>\n",
       "      <td>5</td>\n",
       "      <td>분석데스크가 왜 좆돌 철밥통인지 이제 알겠네</td>\n",
       "      <td>89</td>\n",
       "      <td>0</td>\n",
       "    </tr>\n",
       "  </tbody>\n",
       "</table>\n",
       "</div>"
      ],
      "text/plain": [
       "   id                              title  view_count  recommend_count\n",
       "0   1                     막장드라마 최적화 배우는?           0                0\n",
       "1   2  너구리 없고 페이커 1등..LOL 올스타전, 선수 투표 개시        2395               16\n",
       "2   3                     막장드라마 최적화 배우는?           0                0\n",
       "3   4          리그 오브 레전드 관련 내용이 있어야 합니다.       19916               24\n",
       "4   5           분석데스크가 왜 좆돌 철밥통인지 이제 알겠네          89                0"
      ]
     },
     "execution_count": 2,
     "metadata": {},
     "output_type": "execute_result"
    }
   ],
   "source": [
    "df = pd.read_csv(\"./data/dc_data.csv\")\n",
    "\n",
    "\n",
    "df.head()"
   ]
  },
  {
   "cell_type": "code",
   "execution_count": 3,
   "metadata": {},
   "outputs": [
    {
     "data": {
      "text/plain": [
       "(1097403, 4)"
      ]
     },
     "execution_count": 3,
     "metadata": {},
     "output_type": "execute_result"
    }
   ],
   "source": [
    "df.shape"
   ]
  },
  {
   "cell_type": "code",
   "execution_count": 4,
   "metadata": {},
   "outputs": [
    {
     "data": {
      "text/html": [
       "<div>\n",
       "<style scoped>\n",
       "    .dataframe tbody tr th:only-of-type {\n",
       "        vertical-align: middle;\n",
       "    }\n",
       "\n",
       "    .dataframe tbody tr th {\n",
       "        vertical-align: top;\n",
       "    }\n",
       "\n",
       "    .dataframe thead th {\n",
       "        text-align: right;\n",
       "    }\n",
       "</style>\n",
       "<table border=\"1\" class=\"dataframe\">\n",
       "  <thead>\n",
       "    <tr style=\"text-align: right;\">\n",
       "      <th></th>\n",
       "      <th>id</th>\n",
       "      <th>view_count</th>\n",
       "      <th>recommend_count</th>\n",
       "    </tr>\n",
       "  </thead>\n",
       "  <tbody>\n",
       "    <tr>\n",
       "      <th>count</th>\n",
       "      <td>1.097403e+06</td>\n",
       "      <td>1.097403e+06</td>\n",
       "      <td>1.097403e+06</td>\n",
       "    </tr>\n",
       "    <tr>\n",
       "      <th>mean</th>\n",
       "      <td>5.487049e+05</td>\n",
       "      <td>1.352672e+03</td>\n",
       "      <td>3.637459e+00</td>\n",
       "    </tr>\n",
       "    <tr>\n",
       "      <th>std</th>\n",
       "      <td>3.167952e+05</td>\n",
       "      <td>9.339565e+03</td>\n",
       "      <td>7.246303e+01</td>\n",
       "    </tr>\n",
       "    <tr>\n",
       "      <th>min</th>\n",
       "      <td>1.000000e+00</td>\n",
       "      <td>0.000000e+00</td>\n",
       "      <td>0.000000e+00</td>\n",
       "    </tr>\n",
       "    <tr>\n",
       "      <th>25%</th>\n",
       "      <td>2.743515e+05</td>\n",
       "      <td>4.000000e+01</td>\n",
       "      <td>0.000000e+00</td>\n",
       "    </tr>\n",
       "    <tr>\n",
       "      <th>50%</th>\n",
       "      <td>5.487070e+05</td>\n",
       "      <td>7.900000e+01</td>\n",
       "      <td>0.000000e+00</td>\n",
       "    </tr>\n",
       "    <tr>\n",
       "      <th>75%</th>\n",
       "      <td>8.230575e+05</td>\n",
       "      <td>1.360000e+02</td>\n",
       "      <td>0.000000e+00</td>\n",
       "    </tr>\n",
       "    <tr>\n",
       "      <th>max</th>\n",
       "      <td>1.097408e+06</td>\n",
       "      <td>1.059201e+06</td>\n",
       "      <td>1.129600e+04</td>\n",
       "    </tr>\n",
       "  </tbody>\n",
       "</table>\n",
       "</div>"
      ],
      "text/plain": [
       "                 id    view_count  recommend_count\n",
       "count  1.097403e+06  1.097403e+06     1.097403e+06\n",
       "mean   5.487049e+05  1.352672e+03     3.637459e+00\n",
       "std    3.167952e+05  9.339565e+03     7.246303e+01\n",
       "min    1.000000e+00  0.000000e+00     0.000000e+00\n",
       "25%    2.743515e+05  4.000000e+01     0.000000e+00\n",
       "50%    5.487070e+05  7.900000e+01     0.000000e+00\n",
       "75%    8.230575e+05  1.360000e+02     0.000000e+00\n",
       "max    1.097408e+06  1.059201e+06     1.129600e+04"
      ]
     },
     "execution_count": 4,
     "metadata": {},
     "output_type": "execute_result"
    }
   ],
   "source": [
    "df.describe()"
   ]
  },
  {
   "cell_type": "code",
   "execution_count": 5,
   "metadata": {},
   "outputs": [
    {
     "data": {
      "text/plain": [
       "['막장드라마 최적화 배우는?',\n",
       " '너구리 없고 페이커 1등..LOL 올스타전, 선수 투표 개시',\n",
       " '막장드라마 최적화 배우는?',\n",
       " '리그 오브 레전드 관련 내용이 있어야 합니다.',\n",
       " '분석데스크가 왜 좆돌 철밥통인지 이제 알겠네',\n",
       " '에이 싯팔',\n",
       " '노브랜드버거 먹어본사람???',\n",
       " '막장드라마 최적화 배우는?',\n",
       " '지휘관의 깃발, 즈롯차원문도 밸런스 못 잡아 놓고',\n",
       " '리신 vs 그브 구도가 어떻게됨?']"
      ]
     },
     "execution_count": 5,
     "metadata": {},
     "output_type": "execute_result"
    }
   ],
   "source": [
    "title_list = list(df.title)\n",
    "\n",
    "\n",
    "title_list[:10]"
   ]
  },
  {
   "cell_type": "code",
   "execution_count": 6,
   "metadata": {},
   "outputs": [],
   "source": [
    "abuse_data = get_abuse_data()"
   ]
  },
  {
   "cell_type": "code",
   "execution_count": 2,
   "metadata": {},
   "outputs": [
    {
     "ename": "NameError",
     "evalue": "name 'title_list' is not defined",
     "output_type": "error",
     "traceback": [
      "\u001b[0;31m---------------------------------------------------------------------------\u001b[0m",
      "\u001b[0;31mNameError\u001b[0m                                 Traceback (most recent call last)",
      "\u001b[0;32m<ipython-input-2-e42ddf33d2c7>\u001b[0m in \u001b[0;36m<module>\u001b[0;34m\u001b[0m\n\u001b[1;32m      3\u001b[0m \u001b[0mm\u001b[0m \u001b[0;34m=\u001b[0m \u001b[0mMecab\u001b[0m\u001b[0;34m(\u001b[0m\u001b[0;34m)\u001b[0m\u001b[0;34m\u001b[0m\u001b[0;34m\u001b[0m\u001b[0m\n\u001b[1;32m      4\u001b[0m \u001b[0;34m\u001b[0m\u001b[0m\n\u001b[0;32m----> 5\u001b[0;31m \u001b[0mm\u001b[0m\u001b[0;34m.\u001b[0m\u001b[0mnouns\u001b[0m\u001b[0;34m(\u001b[0m\u001b[0mtitle_list\u001b[0m\u001b[0;34m[\u001b[0m\u001b[0;36m1\u001b[0m\u001b[0;34m]\u001b[0m\u001b[0;34m)\u001b[0m\u001b[0;34m\u001b[0m\u001b[0;34m\u001b[0m\u001b[0m\n\u001b[0m",
      "\u001b[0;31mNameError\u001b[0m: name 'title_list' is not defined"
     ]
    }
   ],
   "source": [
    "from konlpy.tag import Mecab\n",
    "\n",
    "m = Mecab()\n",
    "\n",
    "m.nouns(title_list[1])"
   ]
  },
  {
   "cell_type": "code",
   "execution_count": 8,
   "metadata": {},
   "outputs": [],
   "source": [
    "dc_nouns_dic = {}\n",
    "\n",
    "\n",
    "for i, title in enumerate(title_list):\n",
    "    nouns = m.nouns(title)\n",
    "    \n",
    "    for n in nouns:        \n",
    "        if n not in dc_nouns_dic.keys():\n",
    "            dc_nouns_dic[n] = 1\n",
    "            continue\n",
    "\n",
    "        dc_nouns_dic[n] += 1"
   ]
  },
  {
   "cell_type": "code",
   "execution_count": 9,
   "metadata": {},
   "outputs": [],
   "source": [
    "dc_nouns_dic = {k: v for k, v in sorted(dc_nouns_dic.items(), key=lambda item: item[1], reverse=True)}"
   ]
  },
  {
   "cell_type": "code",
   "execution_count": 10,
   "metadata": {
    "scrolled": true
   },
   "outputs": [
    {
     "name": "stdout",
     "output_type": "stream",
     "text": [
      "Nouns Count : 51855\n",
      "욕설 개수 : 5073\n"
     ]
    }
   ],
   "source": [
    "print(f\"Nouns Count : {len(dc_nouns_dic)}\")\n",
    "abuse_data = list(set(abuse_data))\n",
    "print(f\"욕설 개수 : {len(abuse_data)}\")"
   ]
  },
  {
   "cell_type": "markdown",
   "metadata": {},
   "source": [
    "### 데이터 레이블링\n",
    "---\n",
    "\n",
    "\n",
    "- 욕설 사전에 포함된 단어가 존재시 1, 아닐 시 0"
   ]
  },
  {
   "cell_type": "code",
   "execution_count": 15,
   "metadata": {},
   "outputs": [
    {
     "data": {
      "text/plain": [
       "[['막장 드라마 최적화 배우', 0],\n",
       " ['너구리 페이커 등 올스타 전 선수 투표 개시', 0],\n",
       " ['막장 드라마 최적화 배우', 0],\n",
       " ['리그 오브 레전드 관련 내용', 0],\n",
       " ['분석 데스크 좆 돌 철 밥통', 1]]"
      ]
     },
     "execution_count": 15,
     "metadata": {},
     "output_type": "execute_result"
    }
   ],
   "source": [
    "title_tag = []\n",
    "\n",
    "\n",
    "for title in title_list:\n",
    "    nouns = m.nouns(title)\n",
    "    title_nouns = \" \".join(nouns)\n",
    "    contain_aubuse_word = False\n",
    "    for n in nouns:\n",
    "        if n in abuse_data:\n",
    "            contain_aubuse_word = True\n",
    "            break\n",
    "    \n",
    "    if contain_aubuse_word:\n",
    "        title_tag.append([title_nouns, 1])\n",
    "    else:\n",
    "        title_tag.append([title_nouns, 0])\n",
    "    \n",
    "    \n",
    "title_tag[:5]"
   ]
  },
  {
   "cell_type": "code",
   "execution_count": 16,
   "metadata": {
    "scrolled": false
   },
   "outputs": [
    {
     "data": {
      "text/html": [
       "<div>\n",
       "<style scoped>\n",
       "    .dataframe tbody tr th:only-of-type {\n",
       "        vertical-align: middle;\n",
       "    }\n",
       "\n",
       "    .dataframe tbody tr th {\n",
       "        vertical-align: top;\n",
       "    }\n",
       "\n",
       "    .dataframe thead th {\n",
       "        text-align: right;\n",
       "    }\n",
       "</style>\n",
       "<table border=\"1\" class=\"dataframe\">\n",
       "  <thead>\n",
       "    <tr style=\"text-align: right;\">\n",
       "      <th></th>\n",
       "      <th>title_tag</th>\n",
       "      <th>toxic</th>\n",
       "      <th>id</th>\n",
       "    </tr>\n",
       "  </thead>\n",
       "  <tbody>\n",
       "    <tr>\n",
       "      <th>0</th>\n",
       "      <td>막장 드라마 최적화 배우</td>\n",
       "      <td>0</td>\n",
       "      <td>1</td>\n",
       "    </tr>\n",
       "    <tr>\n",
       "      <th>1</th>\n",
       "      <td>너구리 페이커 등 올스타 전 선수 투표 개시</td>\n",
       "      <td>0</td>\n",
       "      <td>2</td>\n",
       "    </tr>\n",
       "    <tr>\n",
       "      <th>2</th>\n",
       "      <td>막장 드라마 최적화 배우</td>\n",
       "      <td>0</td>\n",
       "      <td>3</td>\n",
       "    </tr>\n",
       "    <tr>\n",
       "      <th>3</th>\n",
       "      <td>리그 오브 레전드 관련 내용</td>\n",
       "      <td>0</td>\n",
       "      <td>4</td>\n",
       "    </tr>\n",
       "    <tr>\n",
       "      <th>4</th>\n",
       "      <td>분석 데스크 좆 돌 철 밥통</td>\n",
       "      <td>1</td>\n",
       "      <td>5</td>\n",
       "    </tr>\n",
       "  </tbody>\n",
       "</table>\n",
       "</div>"
      ],
      "text/plain": [
       "                  title_tag  toxic  id\n",
       "0             막장 드라마 최적화 배우      0   1\n",
       "1  너구리 페이커 등 올스타 전 선수 투표 개시      0   2\n",
       "2             막장 드라마 최적화 배우      0   3\n",
       "3           리그 오브 레전드 관련 내용      0   4\n",
       "4           분석 데스크 좆 돌 철 밥통      1   5"
      ]
     },
     "execution_count": 16,
     "metadata": {},
     "output_type": "execute_result"
    }
   ],
   "source": [
    "label_df = pd.DataFrame(title_tag, columns=[\"title_tag\", \"toxic\"])\n",
    "label_df[\"id\"] = df[\"id\"]\n",
    "\n",
    "\n",
    "label_df.head()"
   ]
  },
  {
   "cell_type": "code",
   "execution_count": 27,
   "metadata": {
    "scrolled": true
   },
   "outputs": [
    {
     "data": {
      "text/html": [
       "<div>\n",
       "<style scoped>\n",
       "    .dataframe tbody tr th:only-of-type {\n",
       "        vertical-align: middle;\n",
       "    }\n",
       "\n",
       "    .dataframe tbody tr th {\n",
       "        vertical-align: top;\n",
       "    }\n",
       "\n",
       "    .dataframe thead th {\n",
       "        text-align: right;\n",
       "    }\n",
       "</style>\n",
       "<table border=\"1\" class=\"dataframe\">\n",
       "  <thead>\n",
       "    <tr style=\"text-align: right;\">\n",
       "      <th></th>\n",
       "      <th>title_tag</th>\n",
       "      <th>toxic</th>\n",
       "      <th>id</th>\n",
       "      <th>title</th>\n",
       "    </tr>\n",
       "  </thead>\n",
       "  <tbody>\n",
       "    <tr>\n",
       "      <th>0</th>\n",
       "      <td>막장 드라마 최적화 배우</td>\n",
       "      <td>0</td>\n",
       "      <td>1</td>\n",
       "      <td>막장드라마 최적화 배우는?</td>\n",
       "    </tr>\n",
       "    <tr>\n",
       "      <th>1</th>\n",
       "      <td>너구리 페이커 등 올스타 전 선수 투표 개시</td>\n",
       "      <td>0</td>\n",
       "      <td>2</td>\n",
       "      <td>너구리 없고 페이커 1등..LOL 올스타전, 선수 투표 개시</td>\n",
       "    </tr>\n",
       "    <tr>\n",
       "      <th>2</th>\n",
       "      <td>막장 드라마 최적화 배우</td>\n",
       "      <td>0</td>\n",
       "      <td>3</td>\n",
       "      <td>막장드라마 최적화 배우는?</td>\n",
       "    </tr>\n",
       "    <tr>\n",
       "      <th>3</th>\n",
       "      <td>리그 오브 레전드 관련 내용</td>\n",
       "      <td>0</td>\n",
       "      <td>4</td>\n",
       "      <td>리그 오브 레전드 관련 내용이 있어야 합니다.</td>\n",
       "    </tr>\n",
       "    <tr>\n",
       "      <th>4</th>\n",
       "      <td>분석 데스크 좆 돌 철 밥통</td>\n",
       "      <td>1</td>\n",
       "      <td>5</td>\n",
       "      <td>분석데스크가 왜 좆돌 철밥통인지 이제 알겠네</td>\n",
       "    </tr>\n",
       "  </tbody>\n",
       "</table>\n",
       "</div>"
      ],
      "text/plain": [
       "                  title_tag  toxic  id                              title\n",
       "0             막장 드라마 최적화 배우      0   1                     막장드라마 최적화 배우는?\n",
       "1  너구리 페이커 등 올스타 전 선수 투표 개시      0   2  너구리 없고 페이커 1등..LOL 올스타전, 선수 투표 개시\n",
       "2             막장 드라마 최적화 배우      0   3                     막장드라마 최적화 배우는?\n",
       "3           리그 오브 레전드 관련 내용      0   4          리그 오브 레전드 관련 내용이 있어야 합니다.\n",
       "4           분석 데스크 좆 돌 철 밥통      1   5           분석데스크가 왜 좆돌 철밥통인지 이제 알겠네"
      ]
     },
     "execution_count": 27,
     "metadata": {},
     "output_type": "execute_result"
    }
   ],
   "source": [
    "label_df[\"title\"] = df[\"title\"]\n",
    "\n",
    "\n",
    "label_df.head()"
   ]
  },
  {
   "cell_type": "code",
   "execution_count": 34,
   "metadata": {},
   "outputs": [
    {
     "data": {
      "text/plain": [
       "0    945484\n",
       "1    151919\n",
       "Name: toxic, dtype: int64"
      ]
     },
     "execution_count": 34,
     "metadata": {},
     "output_type": "execute_result"
    }
   ],
   "source": [
    "label_df.toxic.value_counts()"
   ]
  },
  {
   "cell_type": "code",
   "execution_count": 28,
   "metadata": {},
   "outputs": [
    {
     "name": "stdout",
     "output_type": "stream",
     "text": [
      "일반 문장 : 13.84350143019474, 욕설 문장 86.15649856980527\n"
     ]
    }
   ],
   "source": [
    "total_count = len(label_df.toxic)\n",
    "toxic_count = label_df.toxic.value_counts()[0]\n",
    "general_count = label_df.toxic.value_counts()[1]\n",
    "\n",
    "\n",
    "print(f\"일반 문장 : {100 * (general_count / total_count)}, 욕설 문장 {100 * (toxic_count / total_count)}\")"
   ]
  },
  {
   "cell_type": "code",
   "execution_count": 18,
   "metadata": {
    "scrolled": false
   },
   "outputs": [
    {
     "data": {
      "text/plain": [
       "<AxesSubplot:>"
      ]
     },
     "execution_count": 18,
     "metadata": {},
     "output_type": "execute_result"
    },
    {
     "data": {
      "image/png": "[encoded data removed]",
      "text/plain": [
       "<Figure size 432x288 with 1 Axes>"
      ]
     },
     "metadata": {
      "needs_background": "light"
     },
     "output_type": "display_data"
    }
   ],
   "source": [
    "label_df.toxic.value_counts().plot(kind=\"bar\")"
   ]
  },
  {
   "cell_type": "markdown",
   "metadata": {},
   "source": [
    "### Resampling Data\n",
    "---\n",
    "\n",
    "\n",
    "- Random undersampling\n",
    "\n"
   ]
  },
  {
   "cell_type": "code",
   "execution_count": 31,
   "metadata": {},
   "outputs": [],
   "source": [
    "count_class_0, count_class_1 = label_df.toxic.value_counts()\n",
    "\n",
    "# Divide by class\n",
    "df_class_0 = label_df[label_df['toxic'] == 0]\n",
    "df_class_1 = label_df[label_df['toxic'] == 1]"
   ]
  },
  {
   "cell_type": "code",
   "execution_count": 37,
   "metadata": {
    "scrolled": false
   },
   "outputs": [
    {
     "name": "stdout",
     "output_type": "stream",
     "text": [
      "Random under-sampling:\n",
      "1    151919\n",
      "0    151919\n",
      "Name: toxic, dtype: int64\n"
     ]
    },
    {
     "data": {
      "image/png": "[encoded data removed]",
      "text/plain": [
       "<Figure size 432x288 with 1 Axes>"
      ]
     },
     "metadata": {
      "needs_background": "light"
     },
     "output_type": "display_data"
    }
   ],
   "source": [
    "df_class_0_under = df_class_0.sample(count_class_1)\n",
    "df_test_under = pd.concat([df_class_0_under, df_class_1], axis=0)\n",
    "\n",
    "print('Random under-sampling:')\n",
    "print(df_test_under.toxic.value_counts())\n",
    "\n",
    "df_test_under.toxic.value_counts().plot(kind='bar', title='Count (Toxic)');"
   ]
  },
  {
   "cell_type": "code",
   "execution_count": 48,
   "metadata": {},
   "outputs": [],
   "source": [
    "# save resampling data\n",
    "# df_test_under.to_csv(\"./data/resampling_data.csv\", index=False)"
   ]
  },
  {
   "cell_type": "markdown",
   "metadata": {},
   "source": [
    "### Split train, validation, test \n",
    "---\n",
    "\n",
    "\n",
    "- train 60%, valid 20%, test 20%"
   ]
  },
  {
   "cell_type": "code",
   "execution_count": 38,
   "metadata": {},
   "outputs": [],
   "source": [
    "from sklearn.model_selection import train_test_split"
   ]
  },
  {
   "cell_type": "code",
   "execution_count": 44,
   "metadata": {},
   "outputs": [
    {
     "data": {
      "text/plain": [
       "(630317                                      ㅇㅇ\n",
       " 485785    확팩이 두 개나 나오고 dlc도 존나 많이 나왔는데 볼륨감이 없냐\n",
       " 173902    페이커와 BTS의 만남, T1 롤 선수단 '달려라 방탄' 출연했다\n",
       " Name: title, dtype: object,\n",
       " 630317    0\n",
       " 485785    0\n",
       " 173902    0\n",
       " Name: toxic, dtype: int64)"
      ]
     },
     "execution_count": 44,
     "metadata": {},
     "output_type": "execute_result"
    }
   ],
   "source": [
    "data_x = df_test_under[\"title\"]\n",
    "data_y = df_test_under[\"toxic\"]\n",
    "\n",
    "\n",
    "data_x[:3], data_y[:3]"
   ]
  },
  {
   "cell_type": "code",
   "execution_count": 45,
   "metadata": {},
   "outputs": [
    {
     "name": "stdout",
     "output_type": "stream",
     "text": [
      "train count : 182302,  valid count : 60768, test count : 60768\n"
     ]
    }
   ],
   "source": [
    "train_x, sub_x, train_y, sub_y = train_test_split(data_x, data_y, test_size=0.4, random_state=42)\n",
    "valid_x, test_x, test_y, test_y = train_test_split(sub_x, sub_y, test_size=0.5, random_state=42)\n",
    "\n",
    "\n",
    "print(f\"train count : {len(train_x)},  valid count : {len(valid_x)}, test count : {len(test_x)}\")"
   ]
  },
  {
   "cell_type": "markdown",
   "metadata": {},
   "source": [
    "### Tokenize\n",
    "---\n",
    "\n",
    "- Jamo 단위로 토큰화."
   ]
  },
  {
   "cell_type": "code",
   "execution_count": 19,
   "metadata": {},
   "outputs": [
    {
     "data": {
      "text/plain": [
       "'ㅇㅏㄴㄴㅕㅇㅎㅏㅅㅔㅇㅛ ㅈㅓㄴㅡㄴ ㅎㅗㅇㄴㅏㄷㅏㄴㅇㅣㅂㄴㅣㄷㅏ.'"
      ]
     },
     "execution_count": 19,
     "metadata": {},
     "output_type": "execute_result"
    }
   ],
   "source": [
    "from jamo import h2j, j2hcj\n",
    "\n",
    "sample_text = \"안녕하세요 저는 홍나단입니다.\"\n",
    "\n",
    "j2hcj(h2j(sample_text))"
   ]
  },
  {
   "cell_type": "code",
   "execution_count": 20,
   "metadata": {},
   "outputs": [],
   "source": [
    "def split_jamo(text):\n",
    "    return j2hcj(h2j(text))"
   ]
  },
  {
   "cell_type": "code",
   "execution_count": 46,
   "metadata": {},
   "outputs": [],
   "source": [
    "jamo_train_x = [split_jamo(title) for title in train_x]\n",
    "jamo_valid_x = [split_jamo(title) for title in valid_x]\n",
    "jamo_test_x = [split_jamo(title) for title in test_x]"
   ]
  },
  {
   "cell_type": "code",
   "execution_count": 47,
   "metadata": {},
   "outputs": [
    {
     "data": {
      "text/plain": [
       "['ㅅㅣㅇㄱㅡㄹㅅㅔ ㅂㅜㄱㅘ, ㅎㅔㅍㅡㄴㅣㅇ… “ㅈㅓㅊㅜㄹㅅㅏㄴ ㅁㅜㄴㅈㅔ ㄴㅗㅇㄷㅏㅁㅇㅣ ㅇㅘㅈㅓㄴ”',\n",
       " 'ㅂㅔㄹ ㅇㅣㅉㅏㄹ ㅁㅔㅌㅏㄹㅅㅡㄹㄹㅓㄱㅡ ㅇㅚㄱㅖㅇㅣㄴㄱㅏㅌㅇㅣㅅㅐㅇㄱㅕㅆㄴㅡㄴㄷㅔ',\n",
       " 'ㅇㅣㅈㅔ ㅂㅗㄱㅡㅂㄷㅏㅁㅏ 100ㄱㅐ ㅁㅣㅌㅇㅡㄹㅗ ㄸㅓㄹㅇㅓㅈㅕㅆㄴㅡㄴㄷㅔ',\n",
       " 'ㄹㅗㄹㄱㅐㄹㄱㅗㄴㅣㄱ ㅌㅏㅂㅋㅐㄹㅣ<<ㅇㅣㅅㅐㄲㅣ ㅌㅏㅂㅋㅐㄹㅣ ㅁㅏㅈㅇㅡㅁ?',\n",
       " 'ㅈㅗㅁㄲㅗㄹㄹㅣㄴㅡㄴㅂㅔㄹㄹㅏ']"
      ]
     },
     "execution_count": 47,
     "metadata": {},
     "output_type": "execute_result"
    }
   ],
   "source": []
  },
  {
   "cell_type": "code",
   "execution_count": null,
   "metadata": {},
   "outputs": [],
   "source": []
  }
 ],
 "metadata": {
  "kernelspec": {
   "display_name": "Python 3",
   "language": "python",
   "name": "python3"
  },
  "language_info": {
   "codemirror_mode": {
    "name": "ipython",
    "version": 3
   },
   "file_extension": ".py",
   "mimetype": "text/x-python",
   "name": "python",
   "nbconvert_exporter": "python",
   "pygments_lexer": "ipython3",
   "version": "3.7.7"
  }
 },
 "nbformat": 4,
 "nbformat_minor": 4
}
